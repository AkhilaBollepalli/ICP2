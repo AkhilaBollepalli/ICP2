{
  "cells": [
    {
      "cell_type": "markdown",
      "metadata": {
        "id": "2D51I71yU-1C"
      },
      "source": [
        "Python program that takes two strings from the user: first_name, last_name. Pass these variables to fullname function that should return the (full name)."
      ]
    },
    {
      "cell_type": "code",
      "execution_count": 30,
      "metadata": {
        "colab": {
          "base_uri": "https://localhost:8080/"
        },
        "id": "zAydgeCQVDTM",
        "outputId": "18b937f2-facf-490a-c282-468eeac367cc"
      },
      "outputs": [
        {
          "name": "stdout",
          "output_type": "stream",
          "text": [
            "Enter your first name: Akhila\n",
            "Enter your last name: Bollepalli\n",
            "Akhila Bollepalli\n",
            "Enter the string: Good evening\n",
            "Go vnn\n"
          ]
        }
      ],
      "source": [
        "#Function that takes first name and last name and returns full name\n",
        "def full_name(first_name, last_name):\n",
        "\n",
        "  #Combined using string concatenation operator\n",
        "  return first_name + \" \" + last_name\n",
        "\n",
        "#Function that takes a string and returns string with alternative characters\n",
        "def string_alternative(original_string):\n",
        "\n",
        "  #Alternate characters are taken using slicing operator with step 2\n",
        "  return original_string[::2]\n",
        "\n",
        "#Taking first name input\n",
        "First_name = input(\"Enter your first name: \")\n",
        " #Taking last name input\n",
        "Last_name = input(\"Enter your last name: \")\n",
        " #Calling funtion and printing full name\n",
        "print(full_name(First_name, Last_name))\n",
        "\n",
        "#Inputting a string from the user\n",
        "Original_string = input(\"Enter the string: \")\n",
        "#Printing alternate characters in the string\n",
        "print(string_alternative(Original_string))"
      ]
    },
    {
      "cell_type": "markdown",
      "metadata": {
        "id": "SGAQDXm-VwqP"
      },
      "source": [
        "Write a python program to find the wordcount in a file (input.txt) for each line and then print the output.\n",
        "o Finally store the output in output.txt file."
      ]
    },
    {
      "cell_type": "code",
      "execution_count": 34,
      "metadata": {
        "id": "mU7cgftQVxGv"
      },
      "outputs": [],
      "source": [
        "#Opening input.txt file and reading the contents using a variable\n",
        "with open('input.txt', 'r') as reader:\n",
        "  contents = []\n",
        "\n",
        "  #Getting each line in the file and splitting them into words and adding them to the list\n",
        "  for line in reader.readlines():\n",
        "    contents += list(map(str.strip, line.split(\" \")))\n",
        "\n",
        "\n",
        "#Defining empty dictionary to store the word count\n",
        "word_count = {}\n",
        "for i in contents:\n",
        "\n",
        "  #Checking if the word already exists in the dictionary\n",
        "  #If it is present, then it's count is incremented\n",
        "  if i in word_count.keys():\n",
        "    word_count[i] += 1\n",
        "\n",
        "  #Else new key is created and it's value is set to 1 indiacting it's first occurance in the file\n",
        "  else:\n",
        "    word_count[i] = 1\n",
        "\n",
        "#New file is created and writing the contents in the dictionary to this file\n",
        "with open('output.txt', 'w') as writer:\n",
        "\n",
        "    #Accessing each word and it's value and writing it in the file\n",
        "    for word, value in word_count.items():\n",
        "        writer.write(word + \": \" + str(value) + \"\\n\")\n",
        "\n",
        "    #Closing this file automatically downloads it to the system\n",
        "    writer.close()\n"
      ]
    },
    {
      "cell_type": "markdown",
      "metadata": {
        "id": "MQJx-MtXYgvP"
      },
      "source": [
        "Python program which reads heights (inches.) of customers into a list and convert these heights to centimeters in a separate list using:\n",
        "\n",
        "Nested Interactive loop.\n",
        "List comprehensions"
      ]
    },
    {
      "cell_type": "code",
      "execution_count": 33,
      "metadata": {
        "colab": {
          "base_uri": "https://localhost:8080/"
        },
        "id": "q3B7WPi8YiVA",
        "outputId": "f575abb7-fad2-4921-ce7a-f27c56e3c6da"
      },
      "outputs": [
        {
          "name": "stdout",
          "output_type": "stream",
          "text": [
            "Enter heights in centimeters: 150 148 136 126\n",
            "Heights in inches using loop:  [381.0, 375.92, 345.44, 320.04]\n",
            "Heights in inches using list comprehension:  [381.0, 375.92, 345.44, 320.04]\n"
          ]
        }
      ],
      "source": [
        "#Inputting the heights in centimeters into the list\n",
        "heights_cm = list(map(int, input(\"Enter heights in centimeters: \").split()))\n",
        "\n",
        "#Using loop the heights in centimeters are converted into inches\n",
        "heights_in = []\n",
        "for i in heights_cm:\n",
        "  heights_in.append(2.54*i)\n",
        "\n",
        "#The converted heights are printed\n",
        "print(\"Heights in inches using loop: \", heights_in)\n",
        "\n",
        "\n",
        "#Using list comprehension, the heights in centimeters are converted into inches\n",
        "heights_inc = [2.54*inches for inches in heights_cm]\n",
        "print(\"Heights in inches using list comprehension: \", heights_inc)"
      ]
    }
  ],
  "metadata": {
    "colab": {
      "name": "Welcome To Colab",
      "provenance": [],
      "toc_visible": true
    },
    "kernelspec": {
      "display_name": "Python 3",
      "name": "python3"
    }
  },
  "nbformat": 4,
  "nbformat_minor": 0
}
